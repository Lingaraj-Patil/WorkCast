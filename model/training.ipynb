{
 "cells": [
  {
   "cell_type": "code",
   "execution_count": 15,
   "id": "b6617e9b",
   "metadata": {},
   "outputs": [],
   "source": [
    "import matplotlib.pyplot as plt\n",
    "import seaborn as sns\n",
    "import numpy as np\n",
    "import pandas as pd "
   ]
  },
  {
   "cell_type": "code",
   "execution_count": 16,
   "id": "f86e5225",
   "metadata": {},
   "outputs": [],
   "source": [
    "data = pd.read_csv('D:/resume_analyzer/UpdatedResumeDataSet.csv')\n"
   ]
  },
  {
   "cell_type": "code",
   "execution_count": 17,
   "id": "b414a3b4",
   "metadata": {},
   "outputs": [
    {
     "data": {
      "text/html": [
       "<div>\n",
       "<style scoped>\n",
       "    .dataframe tbody tr th:only-of-type {\n",
       "        vertical-align: middle;\n",
       "    }\n",
       "\n",
       "    .dataframe tbody tr th {\n",
       "        vertical-align: top;\n",
       "    }\n",
       "\n",
       "    .dataframe thead th {\n",
       "        text-align: right;\n",
       "    }\n",
       "</style>\n",
       "<table border=\"1\" class=\"dataframe\">\n",
       "  <thead>\n",
       "    <tr style=\"text-align: right;\">\n",
       "      <th></th>\n",
       "      <th>Category</th>\n",
       "      <th>Resume</th>\n",
       "    </tr>\n",
       "  </thead>\n",
       "  <tbody>\n",
       "    <tr>\n",
       "      <th>0</th>\n",
       "      <td>Data Science</td>\n",
       "      <td>Skills * Programming Languages: Python (pandas...</td>\n",
       "    </tr>\n",
       "    <tr>\n",
       "      <th>1</th>\n",
       "      <td>Data Science</td>\n",
       "      <td>Education Details \\r\\nMay 2013 to May 2017 B.E...</td>\n",
       "    </tr>\n",
       "    <tr>\n",
       "      <th>2</th>\n",
       "      <td>Data Science</td>\n",
       "      <td>Areas of Interest Deep Learning, Control Syste...</td>\n",
       "    </tr>\n",
       "    <tr>\n",
       "      <th>3</th>\n",
       "      <td>Data Science</td>\n",
       "      <td>Skills â¢ R â¢ Python â¢ SAP HANA â¢ Table...</td>\n",
       "    </tr>\n",
       "    <tr>\n",
       "      <th>4</th>\n",
       "      <td>Data Science</td>\n",
       "      <td>Education Details \\r\\n MCA   YMCAUST,  Faridab...</td>\n",
       "    </tr>\n",
       "  </tbody>\n",
       "</table>\n",
       "</div>"
      ],
      "text/plain": [
       "       Category                                             Resume\n",
       "0  Data Science  Skills * Programming Languages: Python (pandas...\n",
       "1  Data Science  Education Details \\r\\nMay 2013 to May 2017 B.E...\n",
       "2  Data Science  Areas of Interest Deep Learning, Control Syste...\n",
       "3  Data Science  Skills â¢ R â¢ Python â¢ SAP HANA â¢ Table...\n",
       "4  Data Science  Education Details \\r\\n MCA   YMCAUST,  Faridab..."
      ]
     },
     "execution_count": 17,
     "metadata": {},
     "output_type": "execute_result"
    }
   ],
   "source": [
    "data.head()\n"
   ]
  },
  {
   "cell_type": "code",
   "execution_count": 18,
   "id": "bfd8e9b1",
   "metadata": {},
   "outputs": [
    {
     "data": {
      "text/html": [
       "<div>\n",
       "<style scoped>\n",
       "    .dataframe tbody tr th:only-of-type {\n",
       "        vertical-align: middle;\n",
       "    }\n",
       "\n",
       "    .dataframe tbody tr th {\n",
       "        vertical-align: top;\n",
       "    }\n",
       "\n",
       "    .dataframe thead th {\n",
       "        text-align: right;\n",
       "    }\n",
       "</style>\n",
       "<table border=\"1\" class=\"dataframe\">\n",
       "  <thead>\n",
       "    <tr style=\"text-align: right;\">\n",
       "      <th></th>\n",
       "      <th>Category</th>\n",
       "      <th>Resume</th>\n",
       "    </tr>\n",
       "  </thead>\n",
       "  <tbody>\n",
       "    <tr>\n",
       "      <th>865</th>\n",
       "      <td>Blockchain</td>\n",
       "      <td>SOFTWARE SKILLS: Languages: C, C++ &amp; java Oper...</td>\n",
       "    </tr>\n",
       "    <tr>\n",
       "      <th>429</th>\n",
       "      <td>Business Analyst</td>\n",
       "      <td>TECHNOLOGICAL SKILLS â¦ Knowledge of Computer...</td>\n",
       "    </tr>\n",
       "    <tr>\n",
       "      <th>509</th>\n",
       "      <td>Electrical Engineering</td>\n",
       "      <td>Education Details \\r\\nJuly 2016 to May 2019 BE...</td>\n",
       "    </tr>\n",
       "    <tr>\n",
       "      <th>607</th>\n",
       "      <td>DevOps Engineer</td>\n",
       "      <td>Software Proficiency: â¢ Languages: Basics of...</td>\n",
       "    </tr>\n",
       "    <tr>\n",
       "      <th>599</th>\n",
       "      <td>DevOps Engineer</td>\n",
       "      <td>Skills VISA B1-VISA (USA) Onsite Visits to Swe...</td>\n",
       "    </tr>\n",
       "    <tr>\n",
       "      <th>304</th>\n",
       "      <td>Civil Engineer</td>\n",
       "      <td>Computer Skills â¢ Holder of valid KSA licens...</td>\n",
       "    </tr>\n",
       "    <tr>\n",
       "      <th>360</th>\n",
       "      <td>Java Developer</td>\n",
       "      <td>Skills â¢ Language: Java â¢ Operating System...</td>\n",
       "    </tr>\n",
       "    <tr>\n",
       "      <th>249</th>\n",
       "      <td>Sales</td>\n",
       "      <td>Skill Sets: â¢ Multi-tasking â¢ Collaborativ...</td>\n",
       "    </tr>\n",
       "    <tr>\n",
       "      <th>828</th>\n",
       "      <td>DotNet Developer</td>\n",
       "      <td>Technologies ASP.NET, MVC 3.0/4.0/5.0, Unit Te...</td>\n",
       "    </tr>\n",
       "    <tr>\n",
       "      <th>958</th>\n",
       "      <td>Testing</td>\n",
       "      <td>â Willingness to accept the challenges. â ...</td>\n",
       "    </tr>\n",
       "    <tr>\n",
       "      <th>855</th>\n",
       "      <td>Blockchain</td>\n",
       "      <td>SOFTWARE SKILLS: Languages: C, C++ &amp; java Oper...</td>\n",
       "    </tr>\n",
       "    <tr>\n",
       "      <th>495</th>\n",
       "      <td>Electrical Engineering</td>\n",
       "      <td>Education Details \\r\\nJanuary 2012 to January ...</td>\n",
       "    </tr>\n",
       "    <tr>\n",
       "      <th>945</th>\n",
       "      <td>Testing</td>\n",
       "      <td>PERSONAL SKILLS â¢ Quick learner, â¢ Eagerne...</td>\n",
       "    </tr>\n",
       "    <tr>\n",
       "      <th>698</th>\n",
       "      <td>PMO</td>\n",
       "      <td>AREA OF EXPERTISE (PROFILE) Around 10 plus yea...</td>\n",
       "    </tr>\n",
       "    <tr>\n",
       "      <th>675</th>\n",
       "      <td>Network Security Engineer</td>\n",
       "      <td>Skill Set â¢â¢Cisco Certified Network Associ...</td>\n",
       "    </tr>\n",
       "  </tbody>\n",
       "</table>\n",
       "</div>"
      ],
      "text/plain": [
       "                      Category  \\\n",
       "865                 Blockchain   \n",
       "429           Business Analyst   \n",
       "509     Electrical Engineering   \n",
       "607            DevOps Engineer   \n",
       "599            DevOps Engineer   \n",
       "304             Civil Engineer   \n",
       "360             Java Developer   \n",
       "249                      Sales   \n",
       "828           DotNet Developer   \n",
       "958                    Testing   \n",
       "855                 Blockchain   \n",
       "495     Electrical Engineering   \n",
       "945                    Testing   \n",
       "698                        PMO   \n",
       "675  Network Security Engineer   \n",
       "\n",
       "                                                Resume  \n",
       "865  SOFTWARE SKILLS: Languages: C, C++ & java Oper...  \n",
       "429  TECHNOLOGICAL SKILLS â¦ Knowledge of Computer...  \n",
       "509  Education Details \\r\\nJuly 2016 to May 2019 BE...  \n",
       "607  Software Proficiency: â¢ Languages: Basics of...  \n",
       "599  Skills VISA B1-VISA (USA) Onsite Visits to Swe...  \n",
       "304  Computer Skills â¢ Holder of valid KSA licens...  \n",
       "360  Skills â¢ Language: Java â¢ Operating System...  \n",
       "249  Skill Sets: â¢ Multi-tasking â¢ Collaborativ...  \n",
       "828  Technologies ASP.NET, MVC 3.0/4.0/5.0, Unit Te...  \n",
       "958  â Willingness to accept the challenges. â ...  \n",
       "855  SOFTWARE SKILLS: Languages: C, C++ & java Oper...  \n",
       "495  Education Details \\r\\nJanuary 2012 to January ...  \n",
       "945  PERSONAL SKILLS â¢ Quick learner, â¢ Eagerne...  \n",
       "698  AREA OF EXPERTISE (PROFILE) Around 10 plus yea...  \n",
       "675  Skill Set â¢â¢Cisco Certified Network Associ...  "
      ]
     },
     "execution_count": 18,
     "metadata": {},
     "output_type": "execute_result"
    }
   ],
   "source": [
    "data.sample(15)"
   ]
  },
  {
   "cell_type": "code",
   "execution_count": 19,
   "id": "6b3e646a",
   "metadata": {},
   "outputs": [
    {
     "data": {
      "text/plain": [
       "Category\n",
       "Java Developer               84\n",
       "Testing                      70\n",
       "DevOps Engineer              55\n",
       "Python Developer             48\n",
       "Web Designing                45\n",
       "HR                           44\n",
       "Hadoop                       42\n",
       "Sales                        40\n",
       "Data Science                 40\n",
       "Mechanical Engineer          40\n",
       "ETL Developer                40\n",
       "Blockchain                   40\n",
       "Operations Manager           40\n",
       "Arts                         36\n",
       "Database                     33\n",
       "Health and fitness           30\n",
       "PMO                          30\n",
       "Electrical Engineering       30\n",
       "Business Analyst             28\n",
       "DotNet Developer             28\n",
       "Automation Testing           26\n",
       "Network Security Engineer    25\n",
       "Civil Engineer               24\n",
       "SAP Developer                24\n",
       "Advocate                     20\n",
       "Name: count, dtype: int64"
      ]
     },
     "execution_count": 19,
     "metadata": {},
     "output_type": "execute_result"
    }
   ],
   "source": [
    "data['Category'].value_counts()\n"
   ]
  },
  {
   "cell_type": "code",
   "execution_count": 20,
   "id": "a8501ba6",
   "metadata": {},
   "outputs": [
    {
     "name": "stdout",
     "output_type": "stream",
     "text": [
      "<class 'pandas.core.frame.DataFrame'>\n",
      "RangeIndex: 962 entries, 0 to 961\n",
      "Data columns (total 2 columns):\n",
      " #   Column    Non-Null Count  Dtype \n",
      "---  ------    --------------  ----- \n",
      " 0   Category  962 non-null    object\n",
      " 1   Resume    962 non-null    object\n",
      "dtypes: object(2)\n",
      "memory usage: 15.2+ KB\n"
     ]
    }
   ],
   "source": [
    "data.info()\n"
   ]
  },
  {
   "cell_type": "code",
   "execution_count": 21,
   "id": "f065498c",
   "metadata": {},
   "outputs": [
    {
     "data": {
      "text/plain": [
       "np.int64(796)"
      ]
     },
     "execution_count": 21,
     "metadata": {},
     "output_type": "execute_result"
    }
   ],
   "source": [
    "data.duplicated().sum()\n"
   ]
  },
  {
   "cell_type": "code",
   "execution_count": 22,
   "id": "e19f4f88",
   "metadata": {},
   "outputs": [
    {
     "data": {
      "text/html": [
       "<div>\n",
       "<style scoped>\n",
       "    .dataframe tbody tr th:only-of-type {\n",
       "        vertical-align: middle;\n",
       "    }\n",
       "\n",
       "    .dataframe tbody tr th {\n",
       "        vertical-align: top;\n",
       "    }\n",
       "\n",
       "    .dataframe thead th {\n",
       "        text-align: right;\n",
       "    }\n",
       "</style>\n",
       "<table border=\"1\" class=\"dataframe\">\n",
       "  <thead>\n",
       "    <tr style=\"text-align: right;\">\n",
       "      <th></th>\n",
       "      <th>Category</th>\n",
       "      <th>Resume</th>\n",
       "    </tr>\n",
       "  </thead>\n",
       "  <tbody>\n",
       "    <tr>\n",
       "      <th>10</th>\n",
       "      <td>Data Science</td>\n",
       "      <td>Skills * Programming Languages: Python (pandas...</td>\n",
       "    </tr>\n",
       "    <tr>\n",
       "      <th>11</th>\n",
       "      <td>Data Science</td>\n",
       "      <td>Education Details \\r\\nMay 2013 to May 2017 B.E...</td>\n",
       "    </tr>\n",
       "    <tr>\n",
       "      <th>12</th>\n",
       "      <td>Data Science</td>\n",
       "      <td>Areas of Interest Deep Learning, Control Syste...</td>\n",
       "    </tr>\n",
       "    <tr>\n",
       "      <th>13</th>\n",
       "      <td>Data Science</td>\n",
       "      <td>Skills â¢ R â¢ Python â¢ SAP HANA â¢ Table...</td>\n",
       "    </tr>\n",
       "    <tr>\n",
       "      <th>14</th>\n",
       "      <td>Data Science</td>\n",
       "      <td>Education Details \\r\\n MCA   YMCAUST,  Faridab...</td>\n",
       "    </tr>\n",
       "    <tr>\n",
       "      <th>...</th>\n",
       "      <td>...</td>\n",
       "      <td>...</td>\n",
       "    </tr>\n",
       "    <tr>\n",
       "      <th>957</th>\n",
       "      <td>Testing</td>\n",
       "      <td>Computer Skills: â¢ Proficient in MS office (...</td>\n",
       "    </tr>\n",
       "    <tr>\n",
       "      <th>958</th>\n",
       "      <td>Testing</td>\n",
       "      <td>â Willingness to accept the challenges. â ...</td>\n",
       "    </tr>\n",
       "    <tr>\n",
       "      <th>959</th>\n",
       "      <td>Testing</td>\n",
       "      <td>PERSONAL SKILLS â¢ Quick learner, â¢ Eagerne...</td>\n",
       "    </tr>\n",
       "    <tr>\n",
       "      <th>960</th>\n",
       "      <td>Testing</td>\n",
       "      <td>COMPUTER SKILLS &amp; SOFTWARE KNOWLEDGE MS-Power ...</td>\n",
       "    </tr>\n",
       "    <tr>\n",
       "      <th>961</th>\n",
       "      <td>Testing</td>\n",
       "      <td>Skill Set OS Windows XP/7/8/8.1/10 Database MY...</td>\n",
       "    </tr>\n",
       "  </tbody>\n",
       "</table>\n",
       "<p>796 rows × 2 columns</p>\n",
       "</div>"
      ],
      "text/plain": [
       "         Category                                             Resume\n",
       "10   Data Science  Skills * Programming Languages: Python (pandas...\n",
       "11   Data Science  Education Details \\r\\nMay 2013 to May 2017 B.E...\n",
       "12   Data Science  Areas of Interest Deep Learning, Control Syste...\n",
       "13   Data Science  Skills â¢ R â¢ Python â¢ SAP HANA â¢ Table...\n",
       "14   Data Science  Education Details \\r\\n MCA   YMCAUST,  Faridab...\n",
       "..            ...                                                ...\n",
       "957       Testing  Computer Skills: â¢ Proficient in MS office (...\n",
       "958       Testing  â Willingness to accept the challenges. â ...\n",
       "959       Testing  PERSONAL SKILLS â¢ Quick learner, â¢ Eagerne...\n",
       "960       Testing  COMPUTER SKILLS & SOFTWARE KNOWLEDGE MS-Power ...\n",
       "961       Testing  Skill Set OS Windows XP/7/8/8.1/10 Database MY...\n",
       "\n",
       "[796 rows x 2 columns]"
      ]
     },
     "execution_count": 22,
     "metadata": {},
     "output_type": "execute_result"
    }
   ],
   "source": [
    "data[data.duplicated()]\n"
   ]
  },
  {
   "cell_type": "code",
   "execution_count": 23,
   "id": "f797ec25",
   "metadata": {},
   "outputs": [
    {
     "data": {
      "text/plain": [
       "Category    Data ScienceData ScienceData ScienceData Scien...\n",
       "Resume      Skills * Programming Languages: Python (pandas...\n",
       "dtype: object"
      ]
     },
     "execution_count": 23,
     "metadata": {},
     "output_type": "execute_result"
    }
   ],
   "source": [
    "data[data.duplicated(subset=['Resume'])].sum()\n"
   ]
  },
  {
   "cell_type": "code",
   "execution_count": 24,
   "id": "b0f1a339",
   "metadata": {},
   "outputs": [
    {
     "data": {
      "text/html": [
       "<div>\n",
       "<style scoped>\n",
       "    .dataframe tbody tr th:only-of-type {\n",
       "        vertical-align: middle;\n",
       "    }\n",
       "\n",
       "    .dataframe tbody tr th {\n",
       "        vertical-align: top;\n",
       "    }\n",
       "\n",
       "    .dataframe thead th {\n",
       "        text-align: right;\n",
       "    }\n",
       "</style>\n",
       "<table border=\"1\" class=\"dataframe\">\n",
       "  <thead>\n",
       "    <tr style=\"text-align: right;\">\n",
       "      <th></th>\n",
       "      <th>Category</th>\n",
       "      <th>Resume</th>\n",
       "    </tr>\n",
       "  </thead>\n",
       "  <tbody>\n",
       "    <tr>\n",
       "      <th>0</th>\n",
       "      <td>Data Science</td>\n",
       "      <td>Skills * Programming Languages: Python (pandas...</td>\n",
       "    </tr>\n",
       "    <tr>\n",
       "      <th>1</th>\n",
       "      <td>Data Science</td>\n",
       "      <td>Education Details \\r\\nMay 2013 to May 2017 B.E...</td>\n",
       "    </tr>\n",
       "    <tr>\n",
       "      <th>2</th>\n",
       "      <td>Data Science</td>\n",
       "      <td>Areas of Interest Deep Learning, Control Syste...</td>\n",
       "    </tr>\n",
       "    <tr>\n",
       "      <th>3</th>\n",
       "      <td>Data Science</td>\n",
       "      <td>Skills â¢ R â¢ Python â¢ SAP HANA â¢ Table...</td>\n",
       "    </tr>\n",
       "    <tr>\n",
       "      <th>4</th>\n",
       "      <td>Data Science</td>\n",
       "      <td>Education Details \\r\\n MCA   YMCAUST,  Faridab...</td>\n",
       "    </tr>\n",
       "    <tr>\n",
       "      <th>...</th>\n",
       "      <td>...</td>\n",
       "      <td>...</td>\n",
       "    </tr>\n",
       "    <tr>\n",
       "      <th>957</th>\n",
       "      <td>Testing</td>\n",
       "      <td>Computer Skills: â¢ Proficient in MS office (...</td>\n",
       "    </tr>\n",
       "    <tr>\n",
       "      <th>958</th>\n",
       "      <td>Testing</td>\n",
       "      <td>â Willingness to accept the challenges. â ...</td>\n",
       "    </tr>\n",
       "    <tr>\n",
       "      <th>959</th>\n",
       "      <td>Testing</td>\n",
       "      <td>PERSONAL SKILLS â¢ Quick learner, â¢ Eagerne...</td>\n",
       "    </tr>\n",
       "    <tr>\n",
       "      <th>960</th>\n",
       "      <td>Testing</td>\n",
       "      <td>COMPUTER SKILLS &amp; SOFTWARE KNOWLEDGE MS-Power ...</td>\n",
       "    </tr>\n",
       "    <tr>\n",
       "      <th>961</th>\n",
       "      <td>Testing</td>\n",
       "      <td>Skill Set OS Windows XP/7/8/8.1/10 Database MY...</td>\n",
       "    </tr>\n",
       "  </tbody>\n",
       "</table>\n",
       "<p>958 rows × 2 columns</p>\n",
       "</div>"
      ],
      "text/plain": [
       "         Category                                             Resume\n",
       "0    Data Science  Skills * Programming Languages: Python (pandas...\n",
       "1    Data Science  Education Details \\r\\nMay 2013 to May 2017 B.E...\n",
       "2    Data Science  Areas of Interest Deep Learning, Control Syste...\n",
       "3    Data Science  Skills â¢ R â¢ Python â¢ SAP HANA â¢ Table...\n",
       "4    Data Science  Education Details \\r\\n MCA   YMCAUST,  Faridab...\n",
       "..            ...                                                ...\n",
       "957       Testing  Computer Skills: â¢ Proficient in MS office (...\n",
       "958       Testing  â Willingness to accept the challenges. â ...\n",
       "959       Testing  PERSONAL SKILLS â¢ Quick learner, â¢ Eagerne...\n",
       "960       Testing  COMPUTER SKILLS & SOFTWARE KNOWLEDGE MS-Power ...\n",
       "961       Testing  Skill Set OS Windows XP/7/8/8.1/10 Database MY...\n",
       "\n",
       "[958 rows x 2 columns]"
      ]
     },
     "execution_count": 24,
     "metadata": {},
     "output_type": "execute_result"
    }
   ],
   "source": [
    "data[data.duplicated(subset=['Resume'], keep=False)]\n"
   ]
  },
  {
   "cell_type": "code",
   "execution_count": 25,
   "id": "fcc9e613",
   "metadata": {},
   "outputs": [
    {
     "data": {
      "image/png": "[encoded data removed]",
      "text/plain": [
       "<Figure size 640x480 with 1 Axes>"
      ]
     },
     "metadata": {},
     "output_type": "display_data"
    }
   ],
   "source": [
    "sns.countplot(data=data, x='Category')\n",
    "plt.xticks(rotation = 90)\n",
    "plt.show()"
   ]
  },
  {
   "cell_type": "code",
   "execution_count": 26,
   "id": "28f8d901",
   "metadata": {},
   "outputs": [
    {
     "data": {
      "image/png": "[encoded data removed]",
      "text/plain": [
       "<Figure size 800x800 with 1 Axes>"
      ]
     },
     "metadata": {},
     "output_type": "display_data"
    }
   ],
   "source": [
    "vc = data['Category'].value_counts()  # index are labels, values are counts (same order)\n",
    "plt.figure(figsize=(8,8))\n",
    "plt.pie(\n",
    "    vc.values,\n",
    "    labels=vc.index,\n",
    "    autopct='%1.1f%%',       \n",
    "    startangle=90,\n",
    "    counterclock=False\n",
    ")\n",
    "plt.tight_layout()\n",
    "plt.show()"
   ]
  },
  {
   "cell_type": "code",
   "execution_count": 27,
   "id": "82ddb272",
   "metadata": {},
   "outputs": [
    {
     "data": {
      "text/plain": [
       "'Skills * Programming Languages: Python (pandas, numpy, scipy, scikit-learn, matplotlib), Sql, Java, JavaScript/JQuery. * Machine learning: Regression, SVM, NaÃ¯ve Bayes, KNN, Random Forest, Decision Trees, Boosting techniques, Cluster Analysis, Word Embedding, Sentiment Analysis, Natural Language processing, Dimensionality reduction, Topic Modelling (LDA, NMF), PCA & Neural Nets. * Database Visualizations: Mysql, SqlServer, Cassandra, Hbase, ElasticSearch D3.js, DC.js, Plotly, kibana, matplotlib, ggplot, Tableau. * Others: Regular Expression, HTML, CSS, Angular 6, Logstash, Kafka, Python Flask, Git, Docker, computer vision - Open CV and understanding of Deep learning.Education Details \\r\\n\\r\\nData Science Assurance Associate \\r\\n\\r\\nData Science Assurance Associate - Ernst & Young LLP\\r\\nSkill Details \\r\\nJAVASCRIPT- Exprience - 24 months\\r\\njQuery- Exprience - 24 months\\r\\nPython- Exprience - 24 monthsCompany Details \\r\\ncompany - Ernst & Young LLP\\r\\ndescription - Fraud Investigations and Dispute Services   Assurance\\r\\nTECHNOLOGY ASSISTED REVIEW\\r\\nTAR (Technology Assisted Review) assists in accelerating the review process and run analytics and generate reports.\\r\\n* Core member of a team helped in developing automated review platform tool from scratch for assisting E discovery domain, this tool implements predictive coding and topic modelling by automating reviews, resulting in reduced labor costs and time spent during the lawyers review.\\r\\n* Understand the end to end flow of the solution, doing research and development for classification models, predictive analysis and mining of the information present in text data. Worked on analyzing the outputs and precision monitoring for the entire tool.\\r\\n* TAR assists in predictive coding, topic modelling from the evidence by following EY standards. Developed the classifier models in order to identify \"red flags\" and fraud-related issues.\\r\\n\\r\\nTools & Technologies: Python, scikit-learn, tfidf, word2vec, doc2vec, cosine similarity, NaÃ¯ve Bayes, LDA, NMF for topic modelling, Vader and text blob for sentiment analysis. Matplot lib, Tableau dashboard for reporting.\\r\\n\\r\\nMULTIPLE DATA SCIENCE AND ANALYTIC PROJECTS (USA CLIENTS)\\r\\nTEXT ANALYTICS - MOTOR VEHICLE CUSTOMER REVIEW DATA * Received customer feedback survey data for past one year. Performed sentiment (Positive, Negative & Neutral) and time series analysis on customer comments across all 4 categories.\\r\\n* Created heat map of terms by survey category based on frequency of words * Extracted Positive and Negative words across all the Survey categories and plotted Word cloud.\\r\\n* Created customized tableau dashboards for effective reporting and visualizations.\\r\\nCHATBOT * Developed a user friendly chatbot for one of our Products which handle simple questions about hours of operation, reservation options and so on.\\r\\n* This chat bot serves entire product related questions. Giving overview of tool via QA platform and also give recommendation responses so that user question to build chain of relevant answer.\\r\\n* This too has intelligence to build the pipeline of questions as per user requirement and asks the relevant /recommended questions.\\r\\n\\r\\nTools & Technologies: Python, Natural language processing, NLTK, spacy, topic modelling, Sentiment analysis, Word Embedding, scikit-learn, JavaScript/JQuery, SqlServer\\r\\n\\r\\nINFORMATION GOVERNANCE\\r\\nOrganizations to make informed decisions about all of the information they store. The integrated Information Governance portfolio synthesizes intelligence across unstructured data sources and facilitates action to ensure organizations are best positioned to counter information risk.\\r\\n* Scan data from multiple sources of formats and parse different file formats, extract Meta data information, push results for indexing elastic search and created customized, interactive dashboards using kibana.\\r\\n* Preforming ROT Analysis on the data which give information of data which helps identify content that is either Redundant, Outdated, or Trivial.\\r\\n* Preforming full-text search analysis on elastic search with predefined methods which can tag as (PII) personally identifiable information (social security numbers, addresses, names, etc.) which frequently targeted during cyber-attacks.\\r\\nTools & Technologies: Python, Flask, Elastic Search, Kibana\\r\\n\\r\\nFRAUD ANALYTIC PLATFORM\\r\\nFraud Analytics and investigative platform to review all red flag cases.\\r\\nâ\\x80¢ FAP is a Fraud Analytics and investigative platform with inbuilt case manager and suite of Analytics for various ERP systems.\\r\\n* It can be used by clients to interrogate their Accounting systems for identifying the anomalies which can be indicators of fraud by running advanced analytics\\r\\nTools & Technologies: HTML, JavaScript, SqlServer, JQuery, CSS, Bootstrap, Node.js, D3.js, DC.js'"
      ]
     },
     "execution_count": 27,
     "metadata": {},
     "output_type": "execute_result"
    }
   ],
   "source": [
    "data['Resume'][0]"
   ]
  },
  {
   "cell_type": "code",
   "execution_count": 28,
   "id": "8f322d1a",
   "metadata": {},
   "outputs": [
    {
     "data": {
      "text/plain": [
       "\"COMPUTER PROFICIENCY â\\x80¢ Basic: MS-Office (PowerPoint, word, Outlook, Excel) â\\x80¢ Language Known: Basics of C, CPP, Java. â\\x80¢ Basics of Networking â\\x80¢ Basics command of Linux PROJECT DETAILS Minor Project Details: â\\x80¢ Title: Applocker for Android. â\\x80¢ Project Area: Android Application. â\\x80¢ Description: Applocker provides the protection of the System applications as well as the Third party applications installed in the Android devices. The password protection is provided with the help of patterns of volume keys. Hence, an extra measure of privacy is acquired. Major Project Details: â\\x80¢ Title: Online Complaint System For Cyber Crimes. â\\x80¢ Project Area: Android Application â\\x80¢ Description: Online Complaint System for Cyber Crimes is an android application which will be in use after a person lodged a complaint in Police station regarding cyber crime but no action has been taken against it within the prescribed time constraint. Such person will directly use this application which will help him/her to directly lodge the complaint to Commissioner Office and it will get store in the Commissioner's database and necessary action will be taken against it. STRENGTHS â\\x80¢ Belief in team work both as a team member and a leader. â\\x80¢ Hard and ethical worker.Education Details \\r\\nJanuary 2013 to January 2016 B.E. Yeshwantrao Chavan Nagpur, Maharashtra Nagpur University\\r\\n Diploma Aggregate  Maharashtra State\\r\\n S.S.C. Education Nagpur, Maharashtra Maharashtra State\\r\\nTesting engineer \\r\\n\\r\\n\\r\\nSkill Details \\r\\nANDROID- Exprience - 6 months\\r\\nCPP- Exprience - 6 months\\r\\nDATABASE- Exprience - 6 months\\r\\nEXCEL- Exprience - 6 months\\r\\nJAVA- Exprience - 6 months\\r\\nSelenium- Exprience - 12 months\\r\\nAutomation Testing- Exprience - 12 months\\r\\nSelenium Webdriver- Exprience - 12 months\\r\\nManual Testing- Exprience - 6 months\\r\\nRegression Testing- Exprience - 6 monthsCompany Details \\r\\ncompany - Maxgen technologies\\r\\ndescription - I'm a software test engineer working at Maxgen technologies from past 1 year.\""
      ]
     },
     "execution_count": 28,
     "metadata": {},
     "output_type": "execute_result"
    }
   ],
   "source": [
    "data['Resume'][900]\n"
   ]
  },
  {
   "cell_type": "code",
   "execution_count": 29,
   "id": "318f048e",
   "metadata": {},
   "outputs": [],
   "source": [
    "import re\n",
    "def cleanresume(txt):\n",
    "    cleantxt = re.sub('http\\S+\\s',' ', txt)\n",
    "    cleantxt = re.sub('@\\S+', ' ',cleantxt)\n",
    "    cleantxt = re.sub('#\\S+\\s', ' ',cleantxt)\n",
    "    cleantxt = re.sub('RT|cc', ' ',cleantxt)\n",
    "    cleantxt = re.sub('[%s]'% re.escape(\"\"\"!\"#$%&''()*+,_./:;<=>?@[\\]^-`{!}~\"\"\"), ' ',cleantxt)\n",
    "    cleantxt = re.sub(r'[^\\x00-\\x7f]',' ',cleantxt)\n",
    "    cleantxt = re.sub('\\s+',' ',cleantxt)\n",
    "    return cleantxt"
   ]
  },
  {
   "cell_type": "code",
   "execution_count": 30,
   "id": "9540e1bb",
   "metadata": {},
   "outputs": [],
   "source": [
    "data['Resume'] = data['Resume'].apply(lambda x: cleanresume(x))\n"
   ]
  },
  {
   "cell_type": "code",
   "execution_count": 31,
   "id": "a146e453",
   "metadata": {},
   "outputs": [
    {
     "data": {
      "text/plain": [
       "0      Skills Programming Languages Python pandas num...\n",
       "1      Education Details May 2013 to May 2017 B E UIT...\n",
       "2      Areas of Interest Deep Learning Control System...\n",
       "3      Skills R Python SAP HANA Tableau SAP HANA SQL ...\n",
       "4      Education Details MCA YMCAUST Faridabad Haryan...\n",
       "                             ...                        \n",
       "957    Computer Skills Proficient in MS office Word B...\n",
       "958     Willingness to a ept the challenges Positive ...\n",
       "959    PERSONAL SKILLS Quick learner Eagerness to lea...\n",
       "960    COMPUTER SKILLS SOFTWARE KNOWLEDGE MS Power Po...\n",
       "961    Skill Set OS Windows XP 7 8 8 1 10 Database MY...\n",
       "Name: Resume, Length: 962, dtype: object"
      ]
     },
     "execution_count": 31,
     "metadata": {},
     "output_type": "execute_result"
    }
   ],
   "source": [
    "data['Resume']\n"
   ]
  },
  {
   "cell_type": "code",
   "execution_count": 32,
   "id": "e57b7630",
   "metadata": {},
   "outputs": [
    {
     "data": {
      "text/html": [
       "<div>\n",
       "<style scoped>\n",
       "    .dataframe tbody tr th:only-of-type {\n",
       "        vertical-align: middle;\n",
       "    }\n",
       "\n",
       "    .dataframe tbody tr th {\n",
       "        vertical-align: top;\n",
       "    }\n",
       "\n",
       "    .dataframe thead th {\n",
       "        text-align: right;\n",
       "    }\n",
       "</style>\n",
       "<table border=\"1\" class=\"dataframe\">\n",
       "  <thead>\n",
       "    <tr style=\"text-align: right;\">\n",
       "      <th></th>\n",
       "      <th>Category</th>\n",
       "      <th>Resume</th>\n",
       "    </tr>\n",
       "  </thead>\n",
       "  <tbody>\n",
       "    <tr>\n",
       "      <th>0</th>\n",
       "      <td>Data Science</td>\n",
       "      <td>Skills Programming Languages Python pandas num...</td>\n",
       "    </tr>\n",
       "    <tr>\n",
       "      <th>1</th>\n",
       "      <td>Data Science</td>\n",
       "      <td>Education Details May 2013 to May 2017 B E UIT...</td>\n",
       "    </tr>\n",
       "    <tr>\n",
       "      <th>2</th>\n",
       "      <td>Data Science</td>\n",
       "      <td>Areas of Interest Deep Learning Control System...</td>\n",
       "    </tr>\n",
       "    <tr>\n",
       "      <th>3</th>\n",
       "      <td>Data Science</td>\n",
       "      <td>Skills R Python SAP HANA Tableau SAP HANA SQL ...</td>\n",
       "    </tr>\n",
       "    <tr>\n",
       "      <th>4</th>\n",
       "      <td>Data Science</td>\n",
       "      <td>Education Details MCA YMCAUST Faridabad Haryan...</td>\n",
       "    </tr>\n",
       "  </tbody>\n",
       "</table>\n",
       "</div>"
      ],
      "text/plain": [
       "       Category                                             Resume\n",
       "0  Data Science  Skills Programming Languages Python pandas num...\n",
       "1  Data Science  Education Details May 2013 to May 2017 B E UIT...\n",
       "2  Data Science  Areas of Interest Deep Learning Control System...\n",
       "3  Data Science  Skills R Python SAP HANA Tableau SAP HANA SQL ...\n",
       "4  Data Science  Education Details MCA YMCAUST Faridabad Haryan..."
      ]
     },
     "execution_count": 32,
     "metadata": {},
     "output_type": "execute_result"
    }
   ],
   "source": [
    "data.head()\n"
   ]
  },
  {
   "cell_type": "code",
   "execution_count": 33,
   "id": "dde3b2b9",
   "metadata": {},
   "outputs": [],
   "source": [
    "from sklearn.preprocessing import LabelEncoder\n",
    "\n",
    "le = LabelEncoder()\n",
    "\n",
    "le.fit(data['Category'])\n",
    "\n",
    "data['Category'] = le.transform(data['Category'])"
   ]
  },
  {
   "cell_type": "code",
   "execution_count": 34,
   "id": "cc71822c",
   "metadata": {},
   "outputs": [
    {
     "data": {
      "text/html": [
       "<div>\n",
       "<style scoped>\n",
       "    .dataframe tbody tr th:only-of-type {\n",
       "        vertical-align: middle;\n",
       "    }\n",
       "\n",
       "    .dataframe tbody tr th {\n",
       "        vertical-align: top;\n",
       "    }\n",
       "\n",
       "    .dataframe thead th {\n",
       "        text-align: right;\n",
       "    }\n",
       "</style>\n",
       "<table border=\"1\" class=\"dataframe\">\n",
       "  <thead>\n",
       "    <tr style=\"text-align: right;\">\n",
       "      <th></th>\n",
       "      <th>Category</th>\n",
       "      <th>Resume</th>\n",
       "    </tr>\n",
       "  </thead>\n",
       "  <tbody>\n",
       "    <tr>\n",
       "      <th>579</th>\n",
       "      <td>20</td>\n",
       "      <td>Training attended 1 Su essfully completed ESD ...</td>\n",
       "    </tr>\n",
       "    <tr>\n",
       "      <th>45</th>\n",
       "      <td>12</td>\n",
       "      <td>Education Details BBA lovely professional univ...</td>\n",
       "    </tr>\n",
       "    <tr>\n",
       "      <th>80</th>\n",
       "      <td>12</td>\n",
       "      <td>KEY SKILLS Computerized a ounting with tally S...</td>\n",
       "    </tr>\n",
       "    <tr>\n",
       "      <th>426</th>\n",
       "      <td>4</td>\n",
       "      <td>Education Details February 2006 to February 20...</td>\n",
       "    </tr>\n",
       "    <tr>\n",
       "      <th>663</th>\n",
       "      <td>17</td>\n",
       "      <td>Operating Systems Windows Linux Ubuntu Network...</td>\n",
       "    </tr>\n",
       "    <tr>\n",
       "      <th>866</th>\n",
       "      <td>3</td>\n",
       "      <td>SKILLS Bitcoin Ethereum Solidity Hyperledger B...</td>\n",
       "    </tr>\n",
       "    <tr>\n",
       "      <th>518</th>\n",
       "      <td>18</td>\n",
       "      <td>Education Details August 2000 B E Electronics ...</td>\n",
       "    </tr>\n",
       "    <tr>\n",
       "      <th>202</th>\n",
       "      <td>16</td>\n",
       "      <td>Education Details January 2018 Bachelor s of E...</td>\n",
       "    </tr>\n",
       "    <tr>\n",
       "      <th>389</th>\n",
       "      <td>15</td>\n",
       "      <td>Education Details August 2010 to May 2017 BE E...</td>\n",
       "    </tr>\n",
       "    <tr>\n",
       "      <th>357</th>\n",
       "      <td>15</td>\n",
       "      <td>Education Details January 2016 B E Information...</td>\n",
       "    </tr>\n",
       "  </tbody>\n",
       "</table>\n",
       "</div>"
      ],
      "text/plain": [
       "     Category                                             Resume\n",
       "579        20  Training attended 1 Su essfully completed ESD ...\n",
       "45         12  Education Details BBA lovely professional univ...\n",
       "80         12  KEY SKILLS Computerized a ounting with tally S...\n",
       "426         4  Education Details February 2006 to February 20...\n",
       "663        17  Operating Systems Windows Linux Ubuntu Network...\n",
       "866         3  SKILLS Bitcoin Ethereum Solidity Hyperledger B...\n",
       "518        18  Education Details August 2000 B E Electronics ...\n",
       "202        16  Education Details January 2018 Bachelor s of E...\n",
       "389        15  Education Details August 2010 to May 2017 BE E...\n",
       "357        15  Education Details January 2016 B E Information..."
      ]
     },
     "execution_count": 34,
     "metadata": {},
     "output_type": "execute_result"
    }
   ],
   "source": [
    "data.sample(10)\n"
   ]
  },
  {
   "cell_type": "code",
   "execution_count": 35,
   "id": "12030e9e",
   "metadata": {},
   "outputs": [],
   "source": [
    "from sklearn.feature_extraction.text import TfidfVectorizer\n",
    "tfidf = TfidfVectorizer(stop_words='english') \n",
    "\n",
    "tfidf.fit(data['Resume'])\n",
    "new_text = tfidf.transform(data['Resume'])"
   ]
  },
  {
   "cell_type": "code",
   "execution_count": 36,
   "id": "f0325f3d",
   "metadata": {},
   "outputs": [
    {
     "data": {
      "text/html": [
       "<div>\n",
       "<style scoped>\n",
       "    .dataframe tbody tr th:only-of-type {\n",
       "        vertical-align: middle;\n",
       "    }\n",
       "\n",
       "    .dataframe tbody tr th {\n",
       "        vertical-align: top;\n",
       "    }\n",
       "\n",
       "    .dataframe thead th {\n",
       "        text-align: right;\n",
       "    }\n",
       "</style>\n",
       "<table border=\"1\" class=\"dataframe\">\n",
       "  <thead>\n",
       "    <tr style=\"text-align: right;\">\n",
       "      <th></th>\n",
       "      <th>Category</th>\n",
       "      <th>Resume</th>\n",
       "    </tr>\n",
       "  </thead>\n",
       "  <tbody>\n",
       "    <tr>\n",
       "      <th>0</th>\n",
       "      <td>6</td>\n",
       "      <td>Skills Programming Languages Python pandas num...</td>\n",
       "    </tr>\n",
       "    <tr>\n",
       "      <th>1</th>\n",
       "      <td>6</td>\n",
       "      <td>Education Details May 2013 to May 2017 B E UIT...</td>\n",
       "    </tr>\n",
       "    <tr>\n",
       "      <th>2</th>\n",
       "      <td>6</td>\n",
       "      <td>Areas of Interest Deep Learning Control System...</td>\n",
       "    </tr>\n",
       "    <tr>\n",
       "      <th>3</th>\n",
       "      <td>6</td>\n",
       "      <td>Skills R Python SAP HANA Tableau SAP HANA SQL ...</td>\n",
       "    </tr>\n",
       "    <tr>\n",
       "      <th>4</th>\n",
       "      <td>6</td>\n",
       "      <td>Education Details MCA YMCAUST Faridabad Haryan...</td>\n",
       "    </tr>\n",
       "    <tr>\n",
       "      <th>...</th>\n",
       "      <td>...</td>\n",
       "      <td>...</td>\n",
       "    </tr>\n",
       "    <tr>\n",
       "      <th>957</th>\n",
       "      <td>23</td>\n",
       "      <td>Computer Skills Proficient in MS office Word B...</td>\n",
       "    </tr>\n",
       "    <tr>\n",
       "      <th>958</th>\n",
       "      <td>23</td>\n",
       "      <td>Willingness to a ept the challenges Positive ...</td>\n",
       "    </tr>\n",
       "    <tr>\n",
       "      <th>959</th>\n",
       "      <td>23</td>\n",
       "      <td>PERSONAL SKILLS Quick learner Eagerness to lea...</td>\n",
       "    </tr>\n",
       "    <tr>\n",
       "      <th>960</th>\n",
       "      <td>23</td>\n",
       "      <td>COMPUTER SKILLS SOFTWARE KNOWLEDGE MS Power Po...</td>\n",
       "    </tr>\n",
       "    <tr>\n",
       "      <th>961</th>\n",
       "      <td>23</td>\n",
       "      <td>Skill Set OS Windows XP 7 8 8 1 10 Database MY...</td>\n",
       "    </tr>\n",
       "  </tbody>\n",
       "</table>\n",
       "<p>962 rows × 2 columns</p>\n",
       "</div>"
      ],
      "text/plain": [
       "     Category                                             Resume\n",
       "0           6  Skills Programming Languages Python pandas num...\n",
       "1           6  Education Details May 2013 to May 2017 B E UIT...\n",
       "2           6  Areas of Interest Deep Learning Control System...\n",
       "3           6  Skills R Python SAP HANA Tableau SAP HANA SQL ...\n",
       "4           6  Education Details MCA YMCAUST Faridabad Haryan...\n",
       "..        ...                                                ...\n",
       "957        23  Computer Skills Proficient in MS office Word B...\n",
       "958        23   Willingness to a ept the challenges Positive ...\n",
       "959        23  PERSONAL SKILLS Quick learner Eagerness to lea...\n",
       "960        23  COMPUTER SKILLS SOFTWARE KNOWLEDGE MS Power Po...\n",
       "961        23  Skill Set OS Windows XP 7 8 8 1 10 Database MY...\n",
       "\n",
       "[962 rows x 2 columns]"
      ]
     },
     "execution_count": 36,
     "metadata": {},
     "output_type": "execute_result"
    }
   ],
   "source": [
    "data\n"
   ]
  },
  {
   "cell_type": "code",
   "execution_count": 37,
   "id": "c1958124",
   "metadata": {},
   "outputs": [
    {
     "data": {
      "text/plain": [
       "<Compressed Sparse Row sparse matrix of dtype 'float64'\n",
       "\twith 164261 stored elements and shape (962, 7351)>"
      ]
     },
     "execution_count": 37,
     "metadata": {},
     "output_type": "execute_result"
    }
   ],
   "source": [
    "new_text\n"
   ]
  },
  {
   "cell_type": "code",
   "execution_count": 38,
   "id": "6e20b2d1",
   "metadata": {},
   "outputs": [],
   "source": [
    "from sklearn.model_selection import train_test_split\n"
   ]
  },
  {
   "cell_type": "code",
   "execution_count": 39,
   "id": "790e3c23",
   "metadata": {},
   "outputs": [],
   "source": [
    "X= new_text\n",
    "y = data['Category']"
   ]
  },
  {
   "cell_type": "code",
   "execution_count": 40,
   "id": "cf4f6fd5",
   "metadata": {},
   "outputs": [],
   "source": [
    "X_train,X_test,y_train,y_test = train_test_split(X,y, test_size=0.2, random_state=42)\n"
   ]
  },
  {
   "cell_type": "code",
   "execution_count": 41,
   "id": "2fccd325",
   "metadata": {},
   "outputs": [
    {
     "data": {
      "text/plain": [
       "(769, 7351)"
      ]
     },
     "execution_count": 41,
     "metadata": {},
     "output_type": "execute_result"
    }
   ],
   "source": [
    "X_train.shape\n"
   ]
  },
  {
   "cell_type": "code",
   "execution_count": 42,
   "id": "5d4fcbc4",
   "metadata": {},
   "outputs": [
    {
     "data": {
      "text/plain": [
       "(193, 7351)"
      ]
     },
     "execution_count": 42,
     "metadata": {},
     "output_type": "execute_result"
    }
   ],
   "source": [
    "X_test.shape\n"
   ]
  },
  {
   "cell_type": "code",
   "execution_count": 43,
   "id": "cf0afb9e",
   "metadata": {},
   "outputs": [],
   "source": [
    "from sklearn.neighbors import KNeighborsClassifier\n"
   ]
  },
  {
   "cell_type": "code",
   "execution_count": 44,
   "id": "bb309e55",
   "metadata": {},
   "outputs": [
    {
     "name": "stdout",
     "output_type": "stream",
     "text": [
      "['Java Developer' 'Java Developer' 'Java Developer' 'Hadoop'\n",
      " 'Health and fitness' 'Network Security Engineer' 'Mechanical Engineer'\n",
      " 'Automation Testing' 'Advocate' 'Health and fitness' 'Hadoop' 'HR'\n",
      " 'Mechanical Engineer' 'Testing' 'Python Developer' 'Civil Engineer'\n",
      " 'Data Science' 'Business Analyst' 'ETL Developer' 'DotNet Developer'\n",
      " 'PMO' 'Arts' 'ETL Developer' 'Testing' 'Testing' 'SAP Developer' 'Sales'\n",
      " 'Sales' 'Automation Testing' 'HR' 'Operations Manager' 'Arts'\n",
      " 'DevOps Engineer' 'Web Designing' 'Electrical Engineering' 'Testing'\n",
      " 'Database' 'HR' 'Web Designing' 'DevOps Engineer' 'Operations Manager'\n",
      " 'Data Science' 'DevOps Engineer' 'PMO' 'Web Designing' 'Testing'\n",
      " 'SAP Developer' 'Arts' 'Java Developer' 'Business Analyst'\n",
      " 'Java Developer' 'Sales' 'Electrical Engineering' 'Civil Engineer'\n",
      " 'Java Developer' 'Hadoop' 'Arts' 'PMO' 'Civil Engineer' 'HR' 'Sales'\n",
      " 'Sales' 'Python Developer' 'Web Designing' 'SAP Developer'\n",
      " 'Operations Manager' 'HR' 'ETL Developer' 'ETL Developer'\n",
      " 'Python Developer' 'ETL Developer' 'DevOps Engineer' 'DotNet Developer'\n",
      " 'SAP Developer' 'Network Security Engineer' 'SAP Developer' 'Advocate'\n",
      " 'Network Security Engineer' 'Mechanical Engineer' 'Health and fitness'\n",
      " 'Java Developer' 'Electrical Engineering' 'Electrical Engineering'\n",
      " 'DevOps Engineer' 'Python Developer' 'Blockchain' 'PMO' 'DevOps Engineer'\n",
      " 'Advocate' 'Automation Testing' 'DotNet Developer' 'ETL Developer'\n",
      " 'Automation Testing' 'Testing' 'Python Developer' 'Python Developer'\n",
      " 'Testing' 'HR' 'Operations Manager' 'HR' 'Database' 'Mechanical Engineer'\n",
      " 'DevOps Engineer' 'Health and fitness' 'Operations Manager' 'Blockchain'\n",
      " 'Health and fitness' 'PMO' 'Health and fitness' 'Health and fitness'\n",
      " 'Java Developer' 'Operations Manager' 'DevOps Engineer'\n",
      " 'Automation Testing' 'SAP Developer' 'Operations Manager' 'Testing'\n",
      " 'ETL Developer' 'Testing' 'Civil Engineer' 'Electrical Engineering'\n",
      " 'Java Developer' 'HR' 'Blockchain' 'Civil Engineer' 'Blockchain'\n",
      " 'Database' 'HR' 'PMO' 'DevOps Engineer' 'Python Developer' 'PMO'\n",
      " 'Blockchain' 'Java Developer' 'DotNet Developer' 'PMO' 'Arts' 'Testing'\n",
      " 'SAP Developer' 'Civil Engineer' 'Python Developer' 'Java Developer'\n",
      " 'Mechanical Engineer' 'Database' 'Database' 'DevOps Engineer'\n",
      " 'Java Developer' 'Operations Manager' 'Arts' 'Java Developer' 'Hadoop'\n",
      " 'Python Developer' 'Database' 'Business Analyst' 'Operations Manager'\n",
      " 'Electrical Engineering' 'Civil Engineer' 'Java Developer'\n",
      " 'Civil Engineer' 'HR' 'DotNet Developer' 'Sales' 'Operations Manager'\n",
      " 'SAP Developer' 'DevOps Engineer' 'Testing' 'Business Analyst' 'HR'\n",
      " 'Web Designing' 'Mechanical Engineer' 'Java Developer' 'Sales'\n",
      " 'DevOps Engineer' 'Sales' 'Blockchain' 'Mechanical Engineer' 'Testing'\n",
      " 'Testing' 'HR' 'Database' 'Mechanical Engineer' 'Operations Manager'\n",
      " 'Civil Engineer' 'Blockchain' 'Operations Manager' 'DevOps Engineer'\n",
      " 'Testing' 'Testing' 'Python Developer' 'SAP Developer' 'Data Science'\n",
      " 'Database' 'Testing']\n"
     ]
    }
   ],
   "source": [
    "clf = KNeighborsClassifier()\n",
    "clf.fit(X_train, y_train)\n",
    "y_pred = clf.predict(X_test)\n",
    "y_pred\n",
    "\n",
    "y_labels = le.inverse_transform(y_pred)\n",
    "print(y_labels)"
   ]
  },
  {
   "cell_type": "code",
   "execution_count": 45,
   "id": "347f76c1",
   "metadata": {},
   "outputs": [
    {
     "name": "stdout",
     "output_type": "stream",
     "text": [
      "0.9844559585492227\n"
     ]
    }
   ],
   "source": [
    "from sklearn.multiclass import OneVsRestClassifier\n",
    "from sklearn.metrics import accuracy_score\n",
    "\n",
    "\n",
    "clf = OneVsRestClassifier(KNeighborsClassifier())\n",
    "clf.fit(X_train, y_train)\n",
    "y_pred = clf.predict(X_test)\n",
    "\n",
    "\n",
    "print(accuracy_score(y_test, y_pred))"
   ]
  },
  {
   "cell_type": "code",
   "execution_count": 49,
   "id": "ace1e9ee",
   "metadata": {},
   "outputs": [
    {
     "name": "stdout",
     "output_type": "stream",
     "text": [
      "Model accuracy: 0.9845\n",
      "\n",
      "Model, label encoder, and vectorizer saved successfully.\n",
      "Files created: 'resume_classifier_model.joblib', 'label_encoder.joblib', 'tfidf_vectorizer.joblib'\n"
     ]
    }
   ],
   "source": [
    "# This Python 3 environment comes with many helpful analytics libraries installed\n",
    "# It is defined by the kaggle/python Docker image: https://github.com/kaggle/docker-python\n",
    "# For example, here's several helpful packages to load\n",
    "import numpy as np # linear algebra\n",
    "import pandas as pd # data processing, CSV file I/O (e.g. pd.read_csv)\n",
    "import matplotlib.pyplot as plt\n",
    "import seaborn as sns\n",
    "import re\n",
    "from sklearn.preprocessing import LabelEncoder\n",
    "from sklearn.feature_extraction.text import TfidfVectorizer\n",
    "from sklearn.model_selection import train_test_split\n",
    "from sklearn.neighbors import KNeighborsClassifier\n",
    "from sklearn.multiclass import OneVsRestClassifier\n",
    "from sklearn.metrics import accuracy_score\n",
    "import joblib # Import the joblib library to save the model\n",
    "\n",
    "# Load the dataset\n",
    "data = pd.read_csv('D:/resume_analyzer/UpdatedResumeDataSet.csv')\n",
    "\n",
    "# Pre-processing function\n",
    "def cleanresume(txt):\n",
    "    cleantxt = re.sub('http\\S+\\s',' ', txt)\n",
    "    cleantxt = re.sub('@\\S+', ' ',cleantxt)\n",
    "    cleantxt = re.sub('#\\S+\\s', ' ',cleantxt)\n",
    "    cleantxt = re.sub('RT|cc', ' ',cleantxt)\n",
    "    cleantxt = re.sub('[%s]'% re.escape(\"\"\"!\"#$%&''()*+,_./:;<=>?@[\\]^-`{!}~\"\"\"), ' ',cleantxt)\n",
    "    cleantxt = re.sub(r'[^\\x00-\\x7f]',' ',cleantxt)\n",
    "    cleantxt = re.sub('\\s+',' ',cleantxt)\n",
    "    return cleantxt\n",
    "\n",
    "# Apply pre-processing to the Resume column\n",
    "data['Resume'] = data['Resume'].apply(lambda x: cleanresume(x))\n",
    "\n",
    "# Encode the Category column\n",
    "le = LabelEncoder()\n",
    "le.fit(data['Category'])\n",
    "data['Category'] = le.transform(data['Category'])\n",
    "\n",
    "# Vectorization\n",
    "tfidf = TfidfVectorizer(stop_words='english')\n",
    "tfidf.fit(data['Resume'])\n",
    "new_text = tfidf.transform(data['Resume'])\n",
    "\n",
    "# Split the data\n",
    "X = new_text\n",
    "y = data['Category']\n",
    "X_train, X_test, y_train, y_test = train_test_split(X, y, test_size=0.2, random_state=42)\n",
    "\n",
    "# Model Training\n",
    "clf = OneVsRestClassifier(KNeighborsClassifier())\n",
    "clf.fit(X_train, y_train)\n",
    "y_pred = clf.predict(X_test)\n",
    "\n",
    "# Calculate accuracy\n",
    "accuracy = accuracy_score(y_test, y_pred)\n",
    "print(f\"Model accuracy: {accuracy:.4f}\")\n",
    "\n",
    "# Save the trained model and the label encoder to disk\n",
    "# It's important to save both so you can convert predictions back to category names\n",
    "joblib.dump(clf, 'resume_classifier_model.joblib')\n",
    "joblib.dump(le, 'label_encoder.joblib')\n",
    "joblib.dump(tfidf, 'tfidf_vectorizer.joblib')\n",
    "\n",
    "print(\"\\nModel, label encoder, and vectorizer saved successfully.\")\n",
    "print(\"Files created: 'resume_classifier_model.joblib', 'label_encoder.joblib', 'tfidf_vectorizer.joblib'\")\n"
   ]
  },
  {
   "cell_type": "code",
   "execution_count": null,
   "id": "4cb94d33",
   "metadata": {},
   "outputs": [],
   "source": []
  }
 ],
 "metadata": {
  "kernelspec": {
   "display_name": "Python 3",
   "language": "python",
   "name": "python3"
  },
  "language_info": {
   "codemirror_mode": {
    "name": "ipython",
    "version": 3
   },
   "file_extension": ".py",
   "mimetype": "text/x-python",
   "name": "python",
   "nbconvert_exporter": "python",
   "pygments_lexer": "ipython3",
   "version": "3.10.0"
  }
 },
 "nbformat": 4,
 "nbformat_minor": 5
}
